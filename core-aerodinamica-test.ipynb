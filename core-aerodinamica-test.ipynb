{
  "nbformat": 4,
  "nbformat_minor": 0,
  "metadata": {
    "colab": {
      "provenance": [],
      "gpuType": "T4"
    },
    "kernelspec": {
      "name": "python3",
      "display_name": "Python 3"
    },
    "language_info": {
      "name": "python"
    },
    "accelerator": "GPU"
  },
  "cells": [
    {
      "cell_type": "code",
      "source": [
        "!rm -rf gpu_optimization\n",
        "!git clone https://github.com//Dodilei/gpu_optimization.git"
      ],
      "metadata": {
        "id": "hr-ifyZ-lCGc",
        "colab": {
          "base_uri": "https://localhost:8080/"
        },
        "outputId": "676ff3b1-0416-4e36-b6bb-d938ea82c753"
      },
      "execution_count": 1,
      "outputs": [
        {
          "output_type": "stream",
          "name": "stdout",
          "text": [
            "Cloning into 'gpu_optimization'...\n",
            "remote: Enumerating objects: 91, done.\u001b[K\n",
            "remote: Counting objects: 100% (91/91), done.\u001b[K\n",
            "remote: Compressing objects: 100% (90/90), done.\u001b[K\n",
            "remote: Total 91 (delta 49), reused 0 (delta 0), pack-reused 0 (from 0)\u001b[K\n",
            "Receiving objects: 100% (91/91), 124.92 KiB | 551.00 KiB/s, done.\n",
            "Resolving deltas: 100% (49/49), done.\n"
          ]
        }
      ]
    },
    {
      "cell_type": "code",
      "source": [
        "!pip install pycuda"
      ],
      "metadata": {
        "id": "Hd4btUMYhe1h",
        "colab": {
          "base_uri": "https://localhost:8080/"
        },
        "outputId": "88f43fd6-fb4e-4c32-b26c-7bcccd353e82"
      },
      "execution_count": 2,
      "outputs": [
        {
          "output_type": "stream",
          "name": "stdout",
          "text": [
            "Requirement already satisfied: pycuda in /usr/local/lib/python3.11/dist-packages (2025.1.1)\n",
            "Requirement already satisfied: pytools>=2011.2 in /usr/local/lib/python3.11/dist-packages (from pycuda) (2025.2.2)\n",
            "Requirement already satisfied: platformdirs>=2.2.0 in /usr/local/lib/python3.11/dist-packages (from pycuda) (4.3.8)\n",
            "Requirement already satisfied: mako in /usr/lib/python3/dist-packages (from pycuda) (1.1.3)\n",
            "Requirement already satisfied: siphash24>=1.6 in /usr/local/lib/python3.11/dist-packages (from pytools>=2011.2->pycuda) (1.7)\n",
            "Requirement already satisfied: typing-extensions>=4.5 in /usr/local/lib/python3.11/dist-packages (from pytools>=2011.2->pycuda) (4.14.1)\n"
          ]
        }
      ]
    },
    {
      "cell_type": "code",
      "source": [
        "import pycuda.driver as drv\n",
        "import pycuda.compiler\n",
        "from pycuda.gpuarray import vec\n",
        "import numpy as np\n",
        "import pycuda.autoinit # This automatically initializes the CUDA driver\n",
        "\n",
        "# Verify PyCUDA installation\n",
        "print(f\"CUDA driver version: {drv.get_version()}\")\n",
        "\n",
        "# Test if the context was popped by attempting an operation\n",
        "try:\n",
        "    # Attempt a simple memory allocation, which requires a valid context\n",
        "    test_allocation = drv.mem_alloc(np.int32().nbytes)\n",
        "    print(\"Context is still active after attempting to pop.\")\n",
        "    # If allocation succeeded, free the memory\n",
        "    test_allocation.free()\n",
        "except drv.LogicError as e:\n",
        "    if \"invalid device context\" in str(e):\n",
        "        print(\"Context was inactive.\")\n",
        "        # Create and push a new context for device 0\n",
        "        try:\n",
        "            new_context = drv.Device(0).make_context()\n",
        "            print(\"New CUDA context created and activated.\")\n",
        "        except Exception as e:\n",
        "            print(f\"Failed to create new context: {e}\")\n",
        "    else:\n",
        "        print(f\"An unexpected error occurred during context test: {e}\")\n",
        "except Exception as e:\n",
        "    print(f\"An unexpected error occurred during context test: {e}\")\n",
        "\n",
        "# Create two CUDA events\n",
        "start_event = drv.Event()\n",
        "end_event = drv.Event()"
      ],
      "metadata": {
        "colab": {
          "base_uri": "https://localhost:8080/"
        },
        "id": "o07ij9k-hiTy",
        "outputId": "7bea1f35-85ca-4ede-92f8-4d78e7fa1771"
      },
      "execution_count": 6,
      "outputs": [
        {
          "output_type": "stream",
          "name": "stdout",
          "text": [
            "CUDA driver version: (12, 5, 0)\n",
            "Context is still active after attempting to pop.\n"
          ]
        }
      ]
    },
    {
      "cell_type": "code",
      "source": [
        "# --- Define Kernel ---\n",
        "with open(\"/content/gpu_optimization/aerodinamica_kernel.cu\", \"r\") as f:\n",
        "    cuda_kernel_code = f.read()\n",
        "\n",
        "module = pycuda.compiler.SourceModule(cuda_kernel_code, no_extern_c=True)\n",
        "aerodinamica_kernel = module.get_function(\"stage_aerodinamica\")"
      ],
      "metadata": {
        "id": "XiQErdtWZuKf"
      },
      "execution_count": 7,
      "outputs": []
    },
    {
      "cell_type": "code",
      "source": [
        "# Define coefficients as arrays (PyCUDA can marshal these to float4)\n",
        "wcl_coeffs_2d = vec.make_float4(*np.array([ 1.34073483e+00,  1.20132980e-01, -1.15990795e-03, -1.22403340e-04], dtype=np.float32))\n",
        "wcd_coeffs_2d = vec.make_float4(*np.array([ 1.00077421e-02, -9.28183611e-04, -2.03676677e-05,  1.47893318e-05], dtype=np.float32))"
      ],
      "metadata": {
        "id": "1irInJMli71K"
      },
      "execution_count": 8,
      "outputs": []
    },
    {
      "cell_type": "code",
      "source": [
        "# Allocate memory for num_vars on the GPU\n",
        "num_vars = np.array([\n",
        "    16,\n",
        "    16,\n",
        "    ], dtype=np.int32)\n",
        "num_vars_gpu = drv.mem_alloc(num_vars.nbytes)\n",
        "drv.memcpy_htod(num_vars_gpu, num_vars)\n",
        "\n",
        "# Allocate memory for scale_params on the GPU\n",
        "scale_params = np.array([\n",
        "    4.0/16,\n",
        "    0.75/16,\n",
        "    ], dtype=np.float32)\n",
        "scale_params_gpu = drv.mem_alloc(scale_params.nbytes)\n",
        "drv.memcpy_htod(scale_params_gpu, scale_params)\n",
        "\n",
        "# Allocate memory for const_params on the GPU\n",
        "const_params = np.array([\n",
        "     3.0,\n",
        "     0.25,\n",
        "    ], dtype=np.float32)\n",
        "const_params_gpu = drv.mem_alloc(const_params.nbytes)\n",
        "drv.memcpy_htod(const_params_gpu, const_params)\n",
        "\n",
        "# Allocate GPU memory for results\n",
        "size = int(num_vars.prod(dtype=np.int32))\n",
        "results_gpu = drv.mem_alloc(size * np.float32().nbytes)"
      ],
      "metadata": {
        "id": "E-2JgBTbZnYZ"
      },
      "execution_count": 9,
      "outputs": []
    },
    {
      "cell_type": "code",
      "source": [
        "# 3. Launch the kernel\n",
        "block_size = 256\n",
        "grid_size = (size + block_size - 1) // block_size\n",
        "\n",
        "print(f\"\\n--- Test Launch ---\")\n",
        "print(f\"Test size: {size}\")\n",
        "print(f\"Test block size: {block_size}\")\n",
        "print(f\"Test grid size: {grid_size}\")\n",
        "print(f\"Kernel launch: grid=({grid_size}, 1), block=({block_size}, 1, 1)\")\n",
        "\n",
        "start_event.record()\n",
        "\n",
        "aerodinamica_kernel(\n",
        "    results_gpu,\n",
        "    num_vars_gpu,\n",
        "    scale_params_gpu,\n",
        "    const_params_gpu,\n",
        "    wcl_coeffs_2d,\n",
        "    wcd_coeffs_2d,\n",
        "    np.float32(0.1016),\n",
        "    np.float32(-10.06),\n",
        "    np.float32(5.0),\n",
        "    np.float32(14.0),\n",
        "    np.int32(len(num_vars)),\n",
        "    block=(block_size, 1, 1),\n",
        "    grid=(grid_size, 1)\n",
        ")\n",
        "\n",
        "end_event.record()\n",
        "end_event.synchronize()\n",
        "elapsed_time_ms = end_event.time_since(start_event)\n",
        "print(f\"Kernel execution time: {elapsed_time_ms:.3f} ms\")\n",
        "\n",
        "# 4. Copy the data back to the CPU\n",
        "results_cpu = np.empty(size, dtype=np.float32)\n",
        "drv.memcpy_dtoh(results_cpu, results_gpu)\n",
        "\n",
        "print(\"\\nTest results on CPU:\", results_cpu)\n",
        "\n",
        "# Clean up GPU memory\n",
        "results_gpu.free()\n",
        "num_vars_gpu.free()\n",
        "scale_params_gpu.free()\n",
        "const_params_gpu.free()\n",
        "print(\"\\nTest GPU memory freed.\")"
      ],
      "metadata": {
        "colab": {
          "base_uri": "https://localhost:8080/"
        },
        "id": "NPLeJ59haKvx",
        "outputId": "5e69b879-2222-439f-ec40-c1762e7a503f"
      },
      "execution_count": 10,
      "outputs": [
        {
          "output_type": "stream",
          "name": "stdout",
          "text": [
            "\n",
            "--- Test Launch ---\n",
            "Test size: 256\n",
            "Test block size: 256\n",
            "Test grid size: 1\n",
            "Kernel launch: grid=(1, 1), block=(256, 1, 1)\n",
            "Kernel execution time: 1.604 ms\n",
            "\n",
            "Test results on CPU: [0.3662362  0.36619976 0.36618555 0.36618903 0.36620665 0.36623484\n",
            " 0.366271   0.36631262 0.36635774 0.36640522 0.36645424 0.36650464\n",
            " 0.3665565  0.36661047 0.36666796 0.3667302  0.36367974 0.36362875\n",
            " 0.3636086  0.36361352 0.36363825 0.36367795 0.3637287  0.36378714\n",
            " 0.36385077 0.3639177  0.36398706 0.3640583  0.36413184 0.36420855\n",
            " 0.3642902  0.3643788  0.36074716 0.36068147 0.36065552 0.36066195\n",
            " 0.3606937  0.36074492 0.3608102  0.3608855  0.3609675  0.36105394\n",
            " 0.36114335 0.36123547 0.36133057 0.36143    0.36153576 0.36165094\n",
            " 0.35756773 0.35748744 0.35745585 0.35746357 0.35750234 0.35756487\n",
            " 0.3576446  0.35773656 0.35783675 0.3579425  0.35805193 0.35816452\n",
            " 0.358281   0.3584027  0.35853243 0.35867363 0.3542354  0.35414082\n",
            " 0.35410374 0.35411286 0.3541586  0.35423213 0.3543261  0.35443434\n",
            " 0.35455242 0.35467705 0.35480607 0.35493898 0.35507637 0.35522008\n",
            " 0.3553733  0.3555401  0.35081935 0.350711   0.35066834 0.35067883\n",
            " 0.3507312  0.35081553 0.3509233  0.35104772 0.3511834  0.3513264\n",
            " 0.3514747  0.35162723 0.35178524 0.35195047 0.35212657 0.35231847\n",
            " 0.3473701  0.347248   0.34720007 0.34721196 0.34727085 0.3473657\n",
            " 0.34748703 0.3476271  0.34777975 0.3479407  0.34810764 0.3482797\n",
            " 0.34845755 0.3486437  0.3488421  0.3490584  0.34392422 0.34378907\n",
            " 0.34373587 0.34374893 0.3438143  0.34391952 0.34405398 0.3442091\n",
            " 0.3443784  0.34455684 0.34474194 0.34493265 0.34512988 0.34533647\n",
            " 0.34555674 0.34579664 0.3405089  0.34036097 0.34030262 0.34031692\n",
            " 0.34038857 0.3405036  0.34065083 0.34082076 0.34100613 0.34120154\n",
            " 0.3414042  0.3416132  0.34182924 0.34205553 0.34229687 0.34255975\n",
            " 0.33714324 0.33698294 0.33691972 0.33693525 0.3370127  0.3371376\n",
            " 0.33729714 0.33748132 0.33768213 0.33789417 0.3381139  0.33834037\n",
            " 0.33857474 0.33882    0.3390818  0.33936712 0.3338412  0.33366868\n",
            " 0.3336009  0.33361766 0.33370093 0.33383507 0.33400658 0.33420452\n",
            " 0.33442053 0.33464834 0.33488452 0.3351281  0.33538008 0.33564404\n",
            " 0.33592537 0.33623216 0.3306122  0.3304282  0.3303557  0.3303735\n",
            " 0.3304624  0.33060566 0.33078873 0.33100003 0.33123043 0.3314737\n",
            " 0.33172598 0.33198586 0.33225492 0.33253664 0.3328372  0.33316475\n",
            " 0.32746258 0.32726738 0.32719058 0.32720944 0.32730377 0.32745567\n",
            " 0.32764983 0.32787406 0.3281186  0.32837662 0.32864434 0.32892027\n",
            " 0.32920566 0.3295047  0.32982367 0.33017123 0.3243963  0.32419038\n",
            " 0.3241093  0.32412922 0.32422876 0.32438904 0.32459405 0.32483062\n",
            " 0.3250888  0.32536125 0.32564375 0.325935   0.32623646 0.3265521\n",
            " 0.32688883 0.327256   0.32141578 0.32119936 0.32111412 0.321135\n",
            " 0.32123968 0.3214082  0.32162353 0.3218722  0.3221434  0.32242978\n",
            " 0.32272664 0.3230327  0.3233494  0.32368118 0.32403517 0.32442105\n",
            " 0.31852174 0.3182952  0.31820595 0.31822792 0.31833738 0.31851372\n",
            " 0.31873918 0.3189994  0.31928334 0.31958303 0.31989378 0.3202141\n",
            " 0.32054567 0.32089293 0.3212635  0.32166746]\n",
            "\n",
            "Test GPU memory freed.\n"
          ]
        }
      ]
    },
    {
      "cell_type": "code",
      "source": [
        "# Attempt to pop the current context\n",
        "try:\n",
        "    pycuda.autoinit.context.pop()\n",
        "    print(\"Attempted to pop the previous CUDA context.\")\n",
        "except Exception as e:\n",
        "    print(f\"Could not pop context (likely none was active or manageable by autoinit): {e}\")"
      ],
      "metadata": {
        "colab": {
          "base_uri": "https://localhost:8080/"
        },
        "id": "ESxv9PaRlkWg",
        "outputId": "1cabecf8-bf2c-4efb-eefb-e17b61e325bc"
      },
      "execution_count": 11,
      "outputs": [
        {
          "output_type": "stream",
          "name": "stdout",
          "text": [
            "Attempted to pop the previous CUDA context.\n"
          ]
        }
      ]
    },
    {
      "cell_type": "code",
      "source": [
        "import seaborn as sns\n",
        "sns.histplot(results_cpu)#, binrange=(0, 5))"
      ],
      "metadata": {
        "colab": {
          "base_uri": "https://localhost:8080/",
          "height": 448
        },
        "id": "ia1OnJ3ZX7a9",
        "outputId": "d5540207-e04b-41cd-c856-dd9c83859687"
      },
      "execution_count": 12,
      "outputs": [
        {
          "output_type": "execute_result",
          "data": {
            "text/plain": [
              "<Axes: ylabel='Count'>"
            ]
          },
          "metadata": {},
          "execution_count": 12
        },
        {
          "output_type": "display_data",
          "data": {
            "text/plain": [
              "<Figure size 640x480 with 1 Axes>"
            ],
            "image/png": "[encoded data removed]"
          },
          "metadata": {}
        }
      ]
    },
    {
      "cell_type": "code",
      "source": [],
      "metadata": {
        "id": "5b5jHpBoqsMd"
      },
      "execution_count": null,
      "outputs": []
    }
  ]
}