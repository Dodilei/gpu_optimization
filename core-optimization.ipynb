{
  "nbformat": 4,
  "nbformat_minor": 0,
  "metadata": {
    "colab": {
      "provenance": [],
      "gpuType": "T4",
      "authorship_tag": "ABX9TyP+Vs/WtTScD52fYr9MNbbd"
    },
    "kernelspec": {
      "name": "python3",
      "display_name": "Python 3"
    },
    "language_info": {
      "name": "python"
    },
    "accelerator": "GPU"
  },
  "cells": [
    {
      "cell_type": "code",
      "source": [
        "!pip install pycuda"
      ],
      "metadata": {
        "colab": {
          "base_uri": "https://localhost:8080/"
        },
        "id": "Hd4btUMYhe1h",
        "outputId": "c309deff-4e97-47c0-8822-f4b3fa14642e"
      },
      "execution_count": 2,
      "outputs": [
        {
          "output_type": "stream",
          "name": "stdout",
          "text": [
            "Collecting pycuda\n",
            "  Downloading pycuda-2025.1.1.tar.gz (1.7 MB)\n",
            "\u001b[?25l     \u001b[90m━━━━━━━━━━━━━━━━━━━━━━━━━━━━━━━━━━━━━━━━\u001b[0m \u001b[32m0.0/1.7 MB\u001b[0m \u001b[31m?\u001b[0m eta \u001b[36m-:--:--\u001b[0m\r\u001b[2K     \u001b[91m━━━━━━━━━━━━━━━━━━━━━━━━\u001b[0m\u001b[91m╸\u001b[0m\u001b[90m━━━━━━━━━━━━━━━\u001b[0m \u001b[32m1.0/1.7 MB\u001b[0m \u001b[31m58.5 MB/s\u001b[0m eta \u001b[36m0:00:01\u001b[0m\r\u001b[2K     \u001b[91m━━━━━━━━━━━━━━━━━━━━━━━━━━━\u001b[0m\u001b[90m╺\u001b[0m\u001b[90m━━━━━━━━━━━━\u001b[0m \u001b[32m1.1/1.7 MB\u001b[0m \u001b[31m16.7 MB/s\u001b[0m eta \u001b[36m0:00:01\u001b[0m\r\u001b[2K     \u001b[90m━━━━━━━━━━━━━━━━━━━━━━━━━━━━━━━━━━━━━━━━\u001b[0m \u001b[32m1.7/1.7 MB\u001b[0m \u001b[31m19.0 MB/s\u001b[0m eta \u001b[36m0:00:00\u001b[0m\n",
            "\u001b[?25h  Installing build dependencies ... \u001b[?25l\u001b[?25hdone\n",
            "  Getting requirements to build wheel ... \u001b[?25l\u001b[?25hdone\n",
            "  Preparing metadata (pyproject.toml) ... \u001b[?25l\u001b[?25hdone\n",
            "Collecting pytools>=2011.2 (from pycuda)\n",
            "\u001b[33m  WARNING: Retrying (Retry(total=4, connect=None, read=None, redirect=None, status=None)) after connection broken by 'ProtocolError('Connection aborted.', RemoteDisconnected('Remote end closed connection without response'))': /packages/d4/ba/eec9ed3b8fa3437f18ee756eb1fe88a373628ba64a48890ca75921fe74c1/pytools-2025.2.2-py3-none-any.whl.metadata\u001b[0m\u001b[33m\n",
            "\u001b[0m  Downloading pytools-2025.2.2-py3-none-any.whl.metadata (2.9 kB)\n",
            "Requirement already satisfied: platformdirs>=2.2.0 in /usr/local/lib/python3.11/dist-packages (from pycuda) (4.3.8)\n",
            "Requirement already satisfied: mako in /usr/lib/python3/dist-packages (from pycuda) (1.1.3)\n",
            "Collecting siphash24>=1.6 (from pytools>=2011.2->pycuda)\n",
            "  Downloading siphash24-1.7-cp311-cp311-manylinux_2_17_x86_64.manylinux2014_x86_64.whl.metadata (3.3 kB)\n",
            "Requirement already satisfied: typing-extensions>=4.5 in /usr/local/lib/python3.11/dist-packages (from pytools>=2011.2->pycuda) (4.14.1)\n",
            "Downloading pytools-2025.2.2-py3-none-any.whl (98 kB)\n",
            "\u001b[2K   \u001b[90m━━━━━━━━━━━━━━━━━━━━━━━━━━━━━━━━━━━━━━━━\u001b[0m \u001b[32m98.1/98.1 kB\u001b[0m \u001b[31m8.6 MB/s\u001b[0m eta \u001b[36m0:00:00\u001b[0m\n",
            "\u001b[?25hDownloading siphash24-1.7-cp311-cp311-manylinux_2_17_x86_64.manylinux2014_x86_64.whl (105 kB)\n",
            "\u001b[2K   \u001b[90m━━━━━━━━━━━━━━━━━━━━━━━━━━━━━━━━━━━━━━━━\u001b[0m \u001b[32m105.6/105.6 kB\u001b[0m \u001b[31m10.6 MB/s\u001b[0m eta \u001b[36m0:00:00\u001b[0m\n",
            "\u001b[?25hBuilding wheels for collected packages: pycuda\n",
            "  Building wheel for pycuda (pyproject.toml) ... \u001b[?25l\u001b[?25hdone\n",
            "  Created wheel for pycuda: filename=pycuda-2025.1.1-cp311-cp311-linux_x86_64.whl size=660712 sha256=61a593641a0084c2b3ab3efc8cec237ad206e17a487307bdd1c481cf364ee6ec\n",
            "  Stored in directory: /root/.cache/pip/wheels/49/0a/64/6530a5fde64f984ebb4992e38744fdfd2a61f510377b3a24d9\n",
            "Successfully built pycuda\n",
            "Installing collected packages: siphash24, pytools, pycuda\n",
            "Successfully installed pycuda-2025.1.1 pytools-2025.2.2 siphash24-1.7\n"
          ]
        }
      ]
    },
    {
      "cell_type": "code",
      "source": [
        "import pycuda.driver as drv\n",
        "import pycuda.compiler\n",
        "import numpy as np\n",
        "import pycuda.autoinit # This automatically initializes the CUDA driver\n",
        "\n",
        "# Verify PyCUDA installation\n",
        "print(f\"CUDA driver version: {drv.get_version()}\")"
      ],
      "metadata": {
        "colab": {
          "base_uri": "https://localhost:8080/"
        },
        "id": "o07ij9k-hiTy",
        "outputId": "ddf1b6e1-1a39-49e5-bc66-0a615b77bef0"
      },
      "execution_count": 5,
      "outputs": [
        {
          "output_type": "stream",
          "name": "stdout",
          "text": [
            "CUDA driver version: (12, 5, 0)\n"
          ]
        }
      ]
    },
    {
      "cell_type": "code",
      "source": [
        "# --- Define Stage 1 Kernel (F(x, y, z)) ---\n",
        "cuda_kernel_F_code = \"\"\"\n",
        "__global__ void evaluate_F_kernel(\n",
        "    float* results_F,        // Output array for storing F results\n",
        "    float scale_x,         // Scaling coefficient for x\n",
        "    float scale_y,         // Scaling coefficient for y\n",
        "    float scale_z,         // Scaling coefficient for z\n",
        "    int num_variations_x,  // Number of variations for x\n",
        "    int num_variations_y,  // Number of variations for y\n",
        "    int num_variations_z   // Number of variations for z\n",
        ") {\n",
        "    int idx = blockIdx.x * blockDim.x + threadIdx.x;\n",
        "    int num_variations_y_z = num_variations_y * num_variations_z;\n",
        "\n",
        "    int x_index = idx / num_variations_y_z;\n",
        "    int y_index = (idx % num_variations_y_z) / num_variations_z;\n",
        "    int z_index = idx % num_variations_z;\n",
        "\n",
        "    float x = scale_x * x_index;\n",
        "    float y = scale_y * y_index;\n",
        "    float z = scale_z * z_index;\n",
        "\n",
        "    // Example scalar function F(x, y, z)\n",
        "    float result_F = -pow(x - 0.5f, 2.0f) - pow(y - 2.0f, 2.0f) - pow(z - 5.0f, 2.0f);\n",
        "\n",
        "    results_F[idx] = result_F;\n",
        "}\n",
        "\"\"\"\n",
        "module_F = pycuda.compiler.SourceModule(cuda_kernel_F_code)\n",
        "evaluate_F_kernel = module_F.get_function(\"evaluate_F_kernel\")"
      ],
      "metadata": {
        "id": "7UwFar3uhk85"
      },
      "execution_count": 6,
      "outputs": []
    },
    {
      "cell_type": "code",
      "source": [
        "# --- Define Stage 2 Kernel (G(F, x, w)) ---\n",
        "cuda_kernel_G_code = \"\"\"\n",
        "__global__ void evaluate_G_kernel(\n",
        "    float* results_G,       // Output array for storing G results\n",
        "    const float* results_F, // Input array for F results\n",
        "    float scale_x,          // Scaling coefficient for x\n",
        "    float scale_w,          // Scaling coefficient for w\n",
        "    int num_variations_x,   // Number of variations for x\n",
        "    int num_variations_y,   // Number of variations for y\n",
        "    int num_variations_z,   // Number of variations for z\n",
        "    int num_variations_w    // Number of variations for w\n",
        ") {\n",
        "    int idx_G = blockIdx.x * blockDim.x + threadIdx.x;\n",
        "    int num_variations_xyz = num_variations_x * num_variations_y * num_variations_z;\n",
        "\n",
        "    int w_index = idx_G / num_variations_xyz;\n",
        "    float w = scale_w * w_index;\n",
        "\n",
        "    int xyz_index = idx_G % num_variations_xyz;\n",
        "\n",
        "    int num_variations_y_z = num_variations_y * num_variations_z;\n",
        "    int x_index = xyz_index / num_variations_y_z;\n",
        "    // int y_index = (xyz_index % num_variations_y_z) / num_variations_z; // Not needed for G(F, x, w)\n",
        "    // int z_index = xyz_index % num_variations_z; // Not needed for G(F, x, w)\n",
        "\n",
        "    float x = scale_x * x_index;\n",
        "\n",
        "    float f_value = results_F[xyz_index];\n",
        "\n",
        "    // Example scalar function G(F, x, w)\n",
        "    float result_G = f_value - pow(x - 0.5f, 2.0f) - pow(w - 900.0f, 2.0f);\n",
        "\n",
        "    results_G[idx_G] = result_G;\n",
        "}\n",
        "\"\"\"\n",
        "module_G = pycuda.compiler.SourceModule(cuda_kernel_G_code)\n",
        "evaluate_G_kernel = module_G.get_function(\"evaluate_G_kernel\")"
      ],
      "metadata": {
        "id": "B58jOj6thn7d"
      },
      "execution_count": 7,
      "outputs": []
    },
    {
      "cell_type": "code",
      "source": [
        "# --- Define Visualization Kernel ---\n",
        "cuda_kernel_viz_code = \"\"\"\n",
        "__device__ unsigned char map_value_to_gray(float value, float min_value, float max_value) {\n",
        "    float normalized_value = (value - min_value) / (max_value - min_value);\n",
        "    if (normalized_value < 0.0f) normalized_value = 0.0f;\n",
        "    if (normalized_value > 1.0f) normalized_value = 1.0f;\n",
        "    return (unsigned char)(normalized_value * 255.0f);\n",
        "}\n",
        "\n",
        "__global__ void visualize_kernel(\n",
        "    unsigned char* image_output, // Output array for the image (grayscale)\n",
        "    const float* results_G,      // Input array for G results\n",
        "    float min_result,            // Minimum result value for color mapping\n",
        "    float max_result,            // Maximum result value for color mapping\n",
        "    int num_variations_x,\n",
        "    int num_variations_y,\n",
        "    int num_variations_z,\n",
        "    int num_variations_w,\n",
        "    int padding_pixels         // Padding between inner grids\n",
        ") {\n",
        "    int img_x = blockIdx.x * blockDim.x + threadIdx.x;\n",
        "    int img_y = blockIdx.y * blockDim.y + threadIdx.y;\n",
        "\n",
        "    int inner_grid_width = num_variations_z;\n",
        "    int inner_grid_height = num_variations_w;\n",
        "    int tiled_grid_width = inner_grid_width + padding_pixels;\n",
        "    int tiled_grid_height = inner_grid_height + padding_pixels;\n",
        "\n",
        "    int total_img_width = tiled_grid_width * num_variations_x + padding_pixels;\n",
        "    int total_img_height = tiled_grid_height * num_variations_y + padding_pixels;\n",
        "\n",
        "    if (img_x >= total_img_width || img_y >= total_img_height) {\n",
        "        return; // Out of bounds\n",
        "    }\n",
        "\n",
        "    bool is_padding = false;\n",
        "    if ((img_x % tiled_grid_width) < padding_pixels ||\n",
        "        (img_y % tiled_grid_height) < padding_pixels) {\n",
        "        is_padding = true;\n",
        "    }\n",
        "\n",
        "    if (is_padding) {\n",
        "        image_output[img_y * total_img_width + img_x] = 0; // Black padding\n",
        "        return;\n",
        "    }\n",
        "\n",
        "    int tile_x_index = img_x / tiled_grid_width;\n",
        "    int tile_y_index = img_y / tiled_grid_height;\n",
        "\n",
        "    int inner_x = (img_x % tiled_grid_width) - padding_pixels; // z index\n",
        "    int inner_y = (img_y % tiled_grid_height) - padding_pixels; // w index\n",
        "\n",
        "    if (inner_x < 0 || inner_y < 0) {\n",
        "         return;\n",
        "    }\n",
        "\n",
        "    // Map back to 4D parameter indices (x, y, z, w) based on Stage 2 kernel indexing\n",
        "    int x_index = tile_x_index;\n",
        "    int y_index = tile_y_index;\n",
        "    int z_index = inner_x;\n",
        "    int w_index = inner_y;\n",
        "\n",
        "    int num_variations_y_z = num_variations_y * num_variations_z;\n",
        "    int num_variations_xyz = num_variations_x * num_variations_y * num_variations_z;\n",
        "    int results_index = w_index * num_variations_xyz +\n",
        "                        x_index * num_variations_y_z +\n",
        "                        y_index * num_variations_z +\n",
        "                        z_index;\n",
        "\n",
        "    float result = results_G[results_index];\n",
        "    unsigned char gray_color = map_value_to_gray(result, min_result, max_result);\n",
        "    image_output[img_y * total_img_width + img_x] = gray_color;\n",
        "}\n",
        "\"\"\"\n",
        "module_viz = pycuda.compiler.SourceModule(cuda_kernel_viz_code)\n",
        "visualize_kernel = module_viz.get_function(\"visualize_kernel\")"
      ],
      "metadata": {
        "id": "ESQQunVwhrId"
      },
      "execution_count": 8,
      "outputs": []
    },
    {
      "cell_type": "code",
      "source": [
        "# --- Execution Parameters ---\n",
        "num_variations_x = 10\n",
        "num_variations_y = 10\n",
        "num_variations_z = 10\n",
        "num_variations_w = 10 # Adjusted for visualization aspect ratio\n",
        "\n",
        "total_instances_F = num_variations_x * num_variations_y * num_variations_z\n",
        "total_instances_G = total_instances_F * num_variations_w\n",
        "\n",
        "# Scaling coefficients (example values) - Used in kernels\n",
        "scale_x_F = 0.1\n",
        "scale_y_F = 0.5\n",
        "scale_z_F = 1.0\n",
        "scale_w = 1.0\n",
        "\n",
        "# Grid and block dimensions\n",
        "block_size = 256 # For calculation kernels (adjust for performance)\n",
        "\n",
        "grid_size_F = (total_instances_F + block_size - 1) // block_size\n",
        "grid_size_G = (total_instances_G + block_size - 1) // block_size"
      ],
      "metadata": {
        "id": "bpGuarMzh45A"
      },
      "execution_count": 9,
      "outputs": []
    },
    {
      "cell_type": "code",
      "source": [
        "# --- Data Allocation on GPU ---\n",
        "results_F_gpu = drv.mem_alloc(total_instances_F * np.float32().nbytes)\n",
        "results_G_gpu = drv.mem_alloc(total_instances_G * np.float32().nbytes)\n"
      ],
      "metadata": {
        "id": "GAcxTLIih7Cd"
      },
      "execution_count": 10,
      "outputs": []
    },
    {
      "cell_type": "code",
      "source": [
        "# --- Execute Stage 1 Kernel ---\n",
        "evaluate_F_kernel(\n",
        "    results_F_gpu,\n",
        "    np.float32(scale_x_F),\n",
        "    np.float32(scale_y_F),\n",
        "    np.float32(scale_z_F),\n",
        "    np.int32(num_variations_x),\n",
        "    np.int32(num_variations_y),\n",
        "    np.int32(num_variations_z),\n",
        "    block=(block_size, 1, 1),\n",
        "    grid=(grid_size_F, 1)\n",
        ")"
      ],
      "metadata": {
        "id": "sVb_bxuQh-n8"
      },
      "execution_count": 11,
      "outputs": []
    },
    {
      "cell_type": "code",
      "source": [
        "# --- Execute Stage 2 Kernel ---\n",
        "evaluate_G_kernel(\n",
        "    results_G_gpu,\n",
        "    results_F_gpu, # Input from Stage 1\n",
        "    np.float32(scale_x_F),\n",
        "    np.float32(scale_w),\n",
        "    np.int32(num_variations_x),\n",
        "    np.int32(num_variations_y),\n",
        "    np.int32(num_variations_z),\n",
        "    np.int32(num_variations_w),\n",
        "    block=(block_size, 1, 1),\n",
        "    grid=(grid_size_G, 1)\n",
        ")"
      ],
      "metadata": {
        "id": "jVRojNF-h_z3"
      },
      "execution_count": 12,
      "outputs": []
    },
    {
      "cell_type": "code",
      "source": [
        "# --- Transfer Final Results (G) back to CPU for Analysis ---\n",
        "results_G_cpu = np.empty(total_instances_G, dtype=np.float32)\n",
        "drv.memcpy_dtoh(results_G_cpu, results_G_gpu)"
      ],
      "metadata": {
        "id": "f442RXkhiBKP"
      },
      "execution_count": 13,
      "outputs": []
    },
    {
      "cell_type": "code",
      "source": [
        "# --- Analyze Results ---\n",
        "max_index_G = np.argmax(results_G_cpu)\n",
        "max_value_G = results_G_cpu[max_index_G]\n",
        "\n",
        "num_variations_xyz = num_variations_x * num_variations_y * num_variations_z\n",
        "w_optimal_index = max_index_G // num_variations_xyz\n",
        "xyz_optimal_index = max_index_G % num_variations_xyz\n",
        "num_variations_y_z = num_variations_y * num_variations_z\n",
        "\n",
        "x_optimal_index = xyz_optimal_index // num_variations_y_z\n",
        "y_optimal_index = (xyz_optimal_index % num_variations_y_z) // num_variations_z\n",
        "z_optimal_index = xyz_optimal_index % num_variations_z\n",
        "\n",
        "x_optimal = scale_x_F * x_optimal_index\n",
        "y_optimal = scale_y_F * y_optimal_index\n",
        "z_optimal = scale_z_F * z_optimal_index\n",
        "w_optimal = scale_w * w_optimal_index\n",
        "\n",
        "print(\"--- Analysis Results ---\")\n",
        "print(f\"Maximum result (G): {max_value_G}\")\n",
        "print(f\"Optimal parameters (scaled index): x={x_optimal_index}, y={y_optimal_index}, z={z_optimal_index}, w={w_optimal_index}\")\n",
        "print(f\"Optimal parameters (real values): x={x_optimal}, y={y_optimal}, z={z_optimal}, w={w_optimal}\")"
      ],
      "metadata": {
        "colab": {
          "base_uri": "https://localhost:8080/"
        },
        "id": "rTL0ckJ0iDTj",
        "outputId": "5de77f12-e9d9-4dfa-c016-5872dfe7a1bc"
      },
      "execution_count": 14,
      "outputs": [
        {
          "output_type": "stream",
          "name": "stdout",
          "text": [
            "--- Analysis Results ---\n",
            "Maximum result (G): -793881.0\n",
            "Optimal parameters (scaled index): x=4, y=4, z=5, w=9\n",
            "Optimal parameters (real values): x=0.4, y=2.0, z=5.0, w=9.0\n"
          ]
        }
      ]
    },
    {
      "cell_type": "code",
      "execution_count": 15,
      "metadata": {
        "colab": {
          "base_uri": "https://localhost:8080/",
          "height": 730
        },
        "id": "iwkFH3AOhUX3",
        "outputId": "daa0ede9-e43a-4cd8-ed47-2951e514b043"
      },
      "outputs": [
        {
          "output_type": "stream",
          "name": "stdout",
          "text": [
            "\n",
            "--- Visualization ---\n"
          ]
        },
        {
          "output_type": "stream",
          "name": "stderr",
          "text": [
            "/tmp/ipython-input-4181743895.py:43: DeprecationWarning: 'mode' parameter is deprecated and will be removed in Pillow 13 (2026-10-15)\n",
            "  image = Image.fromarray(image_output_cpu, 'L')\n"
          ]
        },
        {
          "output_type": "display_data",
          "data": {
            "text/plain": [
              "<Figure size 800x800 with 2 Axes>"
            ],
            "image/png": "[encoded data removed]"
          },
          "metadata": {}
        }
      ],
      "source": [
        "# --- Visualize Results ---\n",
        "from PIL import Image\n",
        "import matplotlib.pyplot as plt\n",
        "\n",
        "padding_pixels = 1\n",
        "inner_grid_width = num_variations_z\n",
        "inner_grid_height = num_variations_w\n",
        "tiled_grid_width = inner_grid_width + padding_pixels\n",
        "tiled_grid_height = inner_grid_height + padding_pixels\n",
        "\n",
        "total_img_width = tiled_grid_width * num_variations_x + padding_pixels\n",
        "total_img_height = tiled_grid_height * num_variations_y + padding_pixels\n",
        "\n",
        "image_output_cpu = np.empty((total_img_height, total_img_width), dtype=np.uint8)\n",
        "image_output_gpu = drv.mem_alloc(image_output_cpu.nbytes)\n",
        "\n",
        "min_result_G = np.min(results_G_cpu)\n",
        "max_result_G = np.max(results_G_cpu)\n",
        "\n",
        "block_size_viz = (16, 16, 1)\n",
        "grid_size_viz = (\n",
        "    (total_img_width + block_size_viz[0] - 1) // block_size_viz[0],\n",
        "    (total_img_height + block_size_viz[1] - 1) // block_size_viz[1]\n",
        ")\n",
        "\n",
        "visualize_kernel(\n",
        "    image_output_gpu,\n",
        "    results_G_gpu,\n",
        "    np.float32(min_result_G),\n",
        "    np.float32(max_result_G),\n",
        "    np.int32(num_variations_x),\n",
        "    np.int32(num_variations_y),\n",
        "    np.int32(num_variations_z),\n",
        "    np.int32(num_variations_w),\n",
        "    np.int32(padding_pixels),\n",
        "    block=block_size_viz,\n",
        "    grid=grid_size_viz\n",
        ")\n",
        "\n",
        "drv.memcpy_dtoh(image_output_cpu, image_output_gpu)\n",
        "\n",
        "print(\"\\n--- Visualization ---\")\n",
        "image = Image.fromarray(image_output_cpu, 'L')\n",
        "\n",
        "plt.figure(figsize=(8, 8))\n",
        "plt.imshow(image, cmap='gray')\n",
        "plt.title('Parameter Space Visualization')\n",
        "plt.xlabel('z (within inner grid) and x (tile column)')\n",
        "plt.ylabel('w (within inner grid) and y (tile row)')\n",
        "plt.colorbar(label='G Result Value')\n",
        "plt.show()"
      ]
    },
    {
      "cell_type": "code",
      "source": [
        "\n",
        "# --- Clean up GPU memory ---\n",
        "results_F_gpu.free()\n",
        "results_G_gpu.free()\n",
        "image_output_gpu.free()\n",
        "\n",
        "print(\"\\nGPU memory freed.\")"
      ],
      "metadata": {
        "colab": {
          "base_uri": "https://localhost:8080/"
        },
        "id": "-cZTd_IsiGh8",
        "outputId": "69e8d151-841b-4632-dab2-49560a4446a5"
      },
      "execution_count": 16,
      "outputs": [
        {
          "output_type": "stream",
          "name": "stdout",
          "text": [
            "\n",
            "GPU memory freed.\n"
          ]
        }
      ]
    }
  ]
}