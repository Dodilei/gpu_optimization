{
  "nbformat": 4,
  "nbformat_minor": 0,
  "metadata": {
    "colab": {
      "provenance": [],
      "gpuType": "T4"
    },
    "kernelspec": {
      "name": "python3",
      "display_name": "Python 3"
    },
    "language_info": {
      "name": "python"
    },
    "accelerator": "GPU"
  },
  "cells": [
    {
      "cell_type": "code",
      "source": [
        "!rm -rf gpu_optimization\n",
        "!git clone https://github.com//Dodilei/gpu_optimization.git"
      ],
      "metadata": {
        "id": "hr-ifyZ-lCGc",
        "colab": {
          "base_uri": "https://localhost:8080/"
        },
        "outputId": "fd015b58-824f-4eb9-8d7f-ce45e1f5a838"
      },
      "execution_count": 1,
      "outputs": [
        {
          "output_type": "stream",
          "name": "stdout",
          "text": [
            "Cloning into 'gpu_optimization'...\n",
            "remote: Enumerating objects: 67, done.\u001b[K\n",
            "remote: Counting objects: 100% (67/67), done.\u001b[K\n",
            "remote: Compressing objects: 100% (66/66), done.\u001b[K\n",
            "remote: Total 67 (delta 34), reused 0 (delta 0), pack-reused 0 (from 0)\u001b[K\n",
            "Receiving objects: 100% (67/67), 102.45 KiB | 777.00 KiB/s, done.\n",
            "Resolving deltas: 100% (34/34), done.\n"
          ]
        }
      ]
    },
    {
      "cell_type": "code",
      "source": [
        "!pip install pycuda"
      ],
      "metadata": {
        "id": "Hd4btUMYhe1h",
        "colab": {
          "base_uri": "https://localhost:8080/"
        },
        "outputId": "169734d2-6615-40bc-fa3f-a0d27e6b4a9d"
      },
      "execution_count": 2,
      "outputs": [
        {
          "output_type": "stream",
          "name": "stdout",
          "text": [
            "Requirement already satisfied: pycuda in /usr/local/lib/python3.11/dist-packages (2025.1.1)\n",
            "Requirement already satisfied: pytools>=2011.2 in /usr/local/lib/python3.11/dist-packages (from pycuda) (2025.2.2)\n",
            "Requirement already satisfied: platformdirs>=2.2.0 in /usr/local/lib/python3.11/dist-packages (from pycuda) (4.3.8)\n",
            "Requirement already satisfied: mako in /usr/lib/python3/dist-packages (from pycuda) (1.1.3)\n",
            "Requirement already satisfied: siphash24>=1.6 in /usr/local/lib/python3.11/dist-packages (from pytools>=2011.2->pycuda) (1.7)\n",
            "Requirement already satisfied: typing-extensions>=4.5 in /usr/local/lib/python3.11/dist-packages (from pytools>=2011.2->pycuda) (4.14.1)\n"
          ]
        }
      ]
    },
    {
      "cell_type": "code",
      "source": [
        "import pycuda.driver as drv\n",
        "import pycuda.compiler\n",
        "from pycuda.gpuarray import vec\n",
        "import numpy as np\n",
        "import pycuda.autoinit # This automatically initializes the CUDA driver\n",
        "\n",
        "# Verify PyCUDA installation\n",
        "print(f\"CUDA driver version: {drv.get_version()}\")\n",
        "\n",
        "# Test if the context was popped by attempting an operation\n",
        "try:\n",
        "    # Attempt a simple memory allocation, which requires a valid context\n",
        "    test_allocation = drv.mem_alloc(np.int32().nbytes)\n",
        "    print(\"Context is still active after attempting to pop.\")\n",
        "    # If allocation succeeded, free the memory\n",
        "    test_allocation.free()\n",
        "except drv.LogicError as e:\n",
        "    if \"invalid device context\" in str(e):\n",
        "        print(\"Context was inactive.\")\n",
        "        # Create and push a new context for device 0\n",
        "        try:\n",
        "            new_context = drv.Device(0).make_context()\n",
        "            print(\"New CUDA context created and activated.\")\n",
        "        except Exception as e:\n",
        "            print(f\"Failed to create new context: {e}\")\n",
        "    else:\n",
        "        print(f\"An unexpected error occurred during context test: {e}\")\n",
        "except Exception as e:\n",
        "    print(f\"An unexpected error occurred during context test: {e}\")\n",
        "\n",
        "# Create two CUDA events\n",
        "start_event = drv.Event()\n",
        "end_event = drv.Event()"
      ],
      "metadata": {
        "colab": {
          "base_uri": "https://localhost:8080/"
        },
        "id": "o07ij9k-hiTy",
        "outputId": "8abc1d24-9d57-4869-dc03-029422ede326"
      },
      "execution_count": 3,
      "outputs": [
        {
          "output_type": "stream",
          "name": "stdout",
          "text": [
            "CUDA driver version: (12, 5, 0)\n",
            "Context is still active after attempting to pop.\n"
          ]
        }
      ]
    },
    {
      "cell_type": "code",
      "source": [
        "# --- Define Kernel ---\n",
        "with open(\"/content/gpu_optimization/estrutura_kernel.cu\", \"r\") as f:\n",
        "    cuda_kernel_code = f.read()\n",
        "\n",
        "module = pycuda.compiler.SourceModule(cuda_kernel_code, no_extern_c=True)\n",
        "estrutura_kernel = module.get_function(\"stage_estrutura\")"
      ],
      "metadata": {
        "id": "XiQErdtWZuKf"
      },
      "execution_count": 4,
      "outputs": []
    },
    {
      "cell_type": "code",
      "source": [
        "# Allocate memory for num_vars on the GPU\n",
        "num_vars = np.array([\n",
        "    16,\n",
        "     4,\n",
        "    16,\n",
        "     8,\n",
        "     8,\n",
        "    ], dtype=np.int32)\n",
        "num_vars_gpu = drv.mem_alloc(num_vars.nbytes)\n",
        "drv.memcpy_htod(num_vars_gpu, num_vars)\n",
        "\n",
        "# Allocate memory for scale_params on the GPU\n",
        "scale_params = np.array([\n",
        "    4.00/16,\n",
        "    1.50/4,\n",
        "    2.5/16,\n",
        "    0.25/8,\n",
        "    2.00/8,\n",
        "    ], dtype=np.float32)\n",
        "scale_params_gpu = drv.mem_alloc(scale_params.nbytes)\n",
        "drv.memcpy_htod(scale_params_gpu, scale_params)\n",
        "\n",
        "# Allocate memory for const_params on the GPU\n",
        "const_params = np.array([\n",
        "     3.0,\n",
        "     2.5,\n",
        "     1.5,\n",
        "     0.1,\n",
        "     1.5,\n",
        "    ], dtype=np.float32)\n",
        "const_params_gpu = drv.mem_alloc(const_params.nbytes)\n",
        "drv.memcpy_htod(const_params_gpu, const_params)\n",
        "\n",
        "# Allocate GPU memory for results\n",
        "size = int(num_vars.prod(dtype=np.int32))\n",
        "results_gpu = drv.mem_alloc(size * np.float32().nbytes)"
      ],
      "metadata": {
        "id": "E-2JgBTbZnYZ"
      },
      "execution_count": 5,
      "outputs": []
    },
    {
      "cell_type": "code",
      "source": [
        "# 3. Launch the kernel\n",
        "block_size = 256\n",
        "grid_size = (size + block_size - 1) // block_size\n",
        "\n",
        "print(f\"\\n--- Test Launch ---\")\n",
        "print(f\"Test size: {size}\")\n",
        "print(f\"Test block size: {block_size}\")\n",
        "print(f\"Test grid size: {grid_size}\")\n",
        "print(f\"Kernel launch: grid=({grid_size}, 1), block=({block_size}, 1, 1)\")\n",
        "\n",
        "start_event.record()\n",
        "\n",
        "estrutura_kernel(\n",
        "    results_gpu,\n",
        "    num_vars_gpu,\n",
        "    scale_params_gpu,\n",
        "    const_params_gpu,\n",
        "    np.float32(0.1),\n",
        "    np.float32(0.25),\n",
        "    np.float32(1.2),\n",
        "    np.float32(1.0),\n",
        "    np.float32(0.35),\n",
        "    np.int32(len(num_vars)),\n",
        "    block=(block_size, 1, 1),\n",
        "    grid=(grid_size, 1)\n",
        ")\n",
        "\n",
        "end_event.record()\n",
        "end_event.synchronize()\n",
        "elapsed_time_ms = end_event.time_since(start_event)\n",
        "print(f\"Kernel execution time: {elapsed_time_ms:.3f} ms\")\n",
        "\n",
        "# 4. Copy the data back to the CPU\n",
        "results_cpu = np.empty(size, dtype=np.float32)\n",
        "drv.memcpy_dtoh(results_cpu, results_gpu)\n",
        "\n",
        "print(\"\\nTest results on CPU:\", results_cpu)\n",
        "\n",
        "# Clean up GPU memory\n",
        "results_gpu.free()\n",
        "num_vars_gpu.free()\n",
        "scale_params_gpu.free()\n",
        "const_params_gpu.free()\n",
        "print(\"\\nTest GPU memory freed.\")"
      ],
      "metadata": {
        "colab": {
          "base_uri": "https://localhost:8080/"
        },
        "id": "NPLeJ59haKvx",
        "outputId": "631b15d8-3137-41a6-cc5c-bc3673c69865"
      },
      "execution_count": 6,
      "outputs": [
        {
          "output_type": "stream",
          "name": "stdout",
          "text": [
            "\n",
            "--- Test Launch ---\n",
            "Test size: 65536\n",
            "Test block size: 256\n",
            "Test grid size: 256\n",
            "Kernel launch: grid=(256, 1), block=(256, 1, 1)\n",
            "Kernel execution time: 23.683 ms\n",
            "\n",
            "Test results on CPU: [0.175 0.175 0.175 ...   inf   inf   inf]\n",
            "\n",
            "Test GPU memory freed.\n"
          ]
        }
      ]
    },
    {
      "cell_type": "code",
      "source": [
        "# Attempt to pop the current context\n",
        "try:\n",
        "    pycuda.autoinit.context.pop()\n",
        "    print(\"Attempted to pop the previous CUDA context.\")\n",
        "except Exception as e:\n",
        "    print(f\"Could not pop context (likely none was active or manageable by autoinit): {e}\")"
      ],
      "metadata": {
        "colab": {
          "base_uri": "https://localhost:8080/"
        },
        "id": "ESxv9PaRlkWg",
        "outputId": "5b13f43a-c517-49fc-8434-232968b4f1e8"
      },
      "execution_count": 7,
      "outputs": [
        {
          "output_type": "stream",
          "name": "stdout",
          "text": [
            "Attempted to pop the previous CUDA context.\n"
          ]
        }
      ]
    },
    {
      "cell_type": "code",
      "source": [
        "import seaborn as sns\n",
        "sns.histplot(results_cpu)"
      ],
      "metadata": {
        "colab": {
          "base_uri": "https://localhost:8080/",
          "height": 448
        },
        "id": "ia1OnJ3ZX7a9",
        "outputId": "229243cb-8bcd-4fce-ebca-4b69e4a8b98d"
      },
      "execution_count": 8,
      "outputs": [
        {
          "output_type": "execute_result",
          "data": {
            "text/plain": [
              "<Axes: ylabel='Count'>"
            ]
          },
          "metadata": {},
          "execution_count": 8
        },
        {
          "output_type": "display_data",
          "data": {
            "text/plain": [
              "<Figure size 640x480 with 1 Axes>"
            ],
            "image/png": "[encoded data removed]"
          },
          "metadata": {}
        }
      ]
    },
    {
      "cell_type": "code",
      "source": [],
      "metadata": {
        "id": "ERZgExGvvSYe"
      },
      "execution_count": 8,
      "outputs": []
    }
  ]
}