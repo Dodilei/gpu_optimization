{
  "nbformat": 4,
  "nbformat_minor": 0,
  "metadata": {
    "colab": {
      "provenance": [],
      "gpuType": "T4"
    },
    "kernelspec": {
      "name": "python3",
      "display_name": "Python 3"
    },
    "language_info": {
      "name": "python"
    },
    "accelerator": "GPU"
  },
  "cells": [
    {
      "cell_type": "code",
      "source": [
        "!rm -rf gpu_optimization\n",
        "!git clone https://github.com//Dodilei/gpu_optimization.git"
      ],
      "metadata": {
        "id": "hr-ifyZ-lCGc",
        "colab": {
          "base_uri": "https://localhost:8080/"
        },
        "outputId": "30402c9a-1a9b-4881-9a65-a5676b7b6860"
      },
      "execution_count": null,
      "outputs": [
        {
          "output_type": "stream",
          "name": "stdout",
          "text": [
            "Cloning into 'gpu_optimization'...\n",
            "remote: Enumerating objects: 34, done.\u001b[K\n",
            "remote: Counting objects: 100% (34/34), done.\u001b[K\n",
            "remote: Compressing objects: 100% (33/33), done.\u001b[K\n",
            "remote: Total 34 (delta 15), reused 0 (delta 0), pack-reused 0 (from 0)\u001b[K\n",
            "Receiving objects: 100% (34/34), 59.72 KiB | 11.94 MiB/s, done.\n",
            "Resolving deltas: 100% (15/15), done.\n"
          ]
        }
      ]
    },
    {
      "cell_type": "code",
      "source": [
        "!pip install pycuda"
      ],
      "metadata": {
        "id": "Hd4btUMYhe1h",
        "colab": {
          "base_uri": "https://localhost:8080/"
        },
        "outputId": "d0131a48-06d5-4acf-c296-53859e87dec4"
      },
      "execution_count": null,
      "outputs": [
        {
          "output_type": "stream",
          "name": "stdout",
          "text": [
            "Collecting pycuda\n",
            "  Downloading pycuda-2025.1.1.tar.gz (1.7 MB)\n",
            "\u001b[?25l     \u001b[90m━━━━━━━━━━━━━━━━━━━━━━━━━━━━━━━━━━━━━━━━\u001b[0m \u001b[32m0.0/1.7 MB\u001b[0m \u001b[31m?\u001b[0m eta \u001b[36m-:--:--\u001b[0m\r\u001b[2K     \u001b[90m━━━━━━━━━━━━━━━━━━━━━━━━━━━━━━━━━━━━━━━━\u001b[0m \u001b[32m1.7/1.7 MB\u001b[0m \u001b[31m67.4 MB/s\u001b[0m eta \u001b[36m0:00:00\u001b[0m\n",
            "\u001b[?25h  Installing build dependencies ... \u001b[?25l\u001b[?25hdone\n",
            "  Getting requirements to build wheel ... \u001b[?25l\u001b[?25hdone\n",
            "  Preparing metadata (pyproject.toml) ... \u001b[?25l\u001b[?25hdone\n",
            "Collecting pytools>=2011.2 (from pycuda)\n",
            "  Downloading pytools-2025.2.2-py3-none-any.whl.metadata (2.9 kB)\n",
            "Requirement already satisfied: platformdirs>=2.2.0 in /usr/local/lib/python3.11/dist-packages (from pycuda) (4.3.8)\n",
            "Requirement already satisfied: mako in /usr/lib/python3/dist-packages (from pycuda) (1.1.3)\n",
            "Collecting siphash24>=1.6 (from pytools>=2011.2->pycuda)\n",
            "  Downloading siphash24-1.7-cp311-cp311-manylinux_2_17_x86_64.manylinux2014_x86_64.whl.metadata (3.3 kB)\n",
            "Requirement already satisfied: typing-extensions>=4.5 in /usr/local/lib/python3.11/dist-packages (from pytools>=2011.2->pycuda) (4.14.1)\n",
            "Downloading pytools-2025.2.2-py3-none-any.whl (98 kB)\n",
            "\u001b[2K   \u001b[90m━━━━━━━━━━━━━━━━━━━━━━━━━━━━━━━━━━━━━━━━\u001b[0m \u001b[32m98.1/98.1 kB\u001b[0m \u001b[31m9.8 MB/s\u001b[0m eta \u001b[36m0:00:00\u001b[0m\n",
            "\u001b[?25hDownloading siphash24-1.7-cp311-cp311-manylinux_2_17_x86_64.manylinux2014_x86_64.whl (105 kB)\n",
            "\u001b[2K   \u001b[90m━━━━━━━━━━━━━━━━━━━━━━━━━━━━━━━━━━━━━━━━\u001b[0m \u001b[32m105.6/105.6 kB\u001b[0m \u001b[31m12.7 MB/s\u001b[0m eta \u001b[36m0:00:00\u001b[0m\n",
            "\u001b[?25hBuilding wheels for collected packages: pycuda\n",
            "  Building wheel for pycuda (pyproject.toml) ... \u001b[?25l\u001b[?25hdone\n",
            "  Created wheel for pycuda: filename=pycuda-2025.1.1-cp311-cp311-linux_x86_64.whl size=660712 sha256=5d82d1adf0f0bca2a0c0c82556951bddba99a12410b1312cb630fe13ea057297\n",
            "  Stored in directory: /root/.cache/pip/wheels/49/0a/64/6530a5fde64f984ebb4992e38744fdfd2a61f510377b3a24d9\n",
            "Successfully built pycuda\n",
            "Installing collected packages: siphash24, pytools, pycuda\n",
            "Successfully installed pycuda-2025.1.1 pytools-2025.2.2 siphash24-1.7\n"
          ]
        }
      ]
    },
    {
      "cell_type": "code",
      "source": [
        "import pycuda.driver as drv\n",
        "import pycuda.compiler\n",
        "from pycuda.gpuarray import vec\n",
        "import numpy as np\n",
        "import pycuda.autoinit # This automatically initializes the CUDA driver\n",
        "\n",
        "# Verify PyCUDA installation\n",
        "print(f\"CUDA driver version: {drv.get_version()}\")\n",
        "\n",
        "# Test if the context was popped by attempting an operation\n",
        "try:\n",
        "    # Attempt a simple memory allocation, which requires a valid context\n",
        "    test_allocation = drv.mem_alloc(np.int32().nbytes)\n",
        "    print(\"Context is still active after attempting to pop.\")\n",
        "    # If allocation succeeded, free the memory\n",
        "    test_allocation.free()\n",
        "except drv.LogicError as e:\n",
        "    if \"invalid device context\" in str(e):\n",
        "        print(\"Context was inactive.\")\n",
        "        # Create and push a new context for device 0\n",
        "        try:\n",
        "            new_context = drv.Device(0).make_context()\n",
        "            print(\"New CUDA context created and activated.\")\n",
        "        except Exception as e:\n",
        "            print(f\"Failed to create new context: {e}\")\n",
        "    else:\n",
        "        print(f\"An unexpected error occurred during context test: {e}\")\n",
        "except Exception as e:\n",
        "    print(f\"An unexpected error occurred during context test: {e}\")\n",
        "\n",
        "# Create two CUDA events\n",
        "start_event = drv.Event()\n",
        "end_event = drv.Event()"
      ],
      "metadata": {
        "colab": {
          "base_uri": "https://localhost:8080/"
        },
        "id": "o07ij9k-hiTy",
        "outputId": "96a08c94-61f0-40b5-f35a-378d6200b768"
      },
      "execution_count": null,
      "outputs": [
        {
          "output_type": "stream",
          "name": "stdout",
          "text": [
            "CUDA driver version: (12, 5, 0)\n",
            "Context is still active after attempting to pop.\n",
            "New CUDA context created and activated.\n"
          ]
        }
      ]
    },
    {
      "cell_type": "code",
      "source": [
        "# --- Define Kernel ---\n",
        "with open(\"/content/gpu_optimization/estabilidade2_kernel.cu\", \"r\") as f:\n",
        "    cuda_kernel_code = f.read()\n",
        "\n",
        "module = pycuda.compiler.SourceModule(cuda_kernel_code, no_extern_c=True)\n",
        "estabilidade2_kernel = module.get_function(\"stage_estabilidade2\")"
      ],
      "metadata": {
        "id": "XiQErdtWZuKf"
      },
      "execution_count": null,
      "outputs": []
    },
    {
      "cell_type": "code",
      "source": [
        "# Define coefficients as arrays (PyCUDA can marshal these to floatN)\n",
        "wcl_coeffs = vec.make_float4(*np.array([5.71558580e-01,  6.05864834e-02, -3.00544472e-04, -6.03974299e-05], dtype=np.float32))\n",
        "wcm_coeffs = vec.make_float3(*np.array([-0.18781341, -0.0006181 ,  0.00030185], dtype=np.float32))"
      ],
      "metadata": {
        "id": "1irInJMli71K"
      },
      "execution_count": null,
      "outputs": []
    },
    {
      "cell_type": "code",
      "source": [
        "# Allocate memory for num_vars on the GPU\n",
        "num_vars = np.array([\n",
        "    16,\n",
        "    16,\n",
        "     8,\n",
        "     8,\n",
        "     4\n",
        "    ], dtype=np.int32)\n",
        "num_vars_gpu = drv.mem_alloc(num_vars.nbytes)\n",
        "drv.memcpy_htod(num_vars_gpu, num_vars)\n",
        "\n",
        "# Allocate memory for scale_params on the GPU\n",
        "scale_params = np.array([\n",
        "    4.0/16,\n",
        "    2.5/16,\n",
        "    0.25/8,\n",
        "    2.0/8,\n",
        "    4.0/4\n",
        "    ], dtype=np.float32)\n",
        "scale_params_gpu = drv.mem_alloc(scale_params.nbytes)\n",
        "drv.memcpy_htod(scale_params_gpu, scale_params)\n",
        "\n",
        "# Allocate memory for const_params on the GPU\n",
        "const_params = np.array([\n",
        "     3.0,\n",
        "     1.5,\n",
        "     0.1,\n",
        "     1.5,\n",
        "    -2.0\n",
        "    ], dtype=np.float32)\n",
        "const_params_gpu = drv.mem_alloc(const_params.nbytes)\n",
        "drv.memcpy_htod(const_params_gpu, const_params)\n",
        "\n",
        "# Allocate GPU memory for results\n",
        "size = int(num_vars.prod(dtype=np.int32))\n",
        "results_gpu = drv.mem_alloc(size * np.float32().nbytes)"
      ],
      "metadata": {
        "id": "E-2JgBTbZnYZ"
      },
      "execution_count": null,
      "outputs": []
    },
    {
      "cell_type": "code",
      "source": [
        "# 3. Launch the kernel\n",
        "block_size = 256\n",
        "grid_size = (size + block_size - 1) // block_size\n",
        "\n",
        "print(f\"\\n--- Test Launch ---\")\n",
        "print(f\"Test size: {size}\")\n",
        "print(f\"Test block size: {block_size}\")\n",
        "print(f\"Test grid size: {grid_size}\")\n",
        "print(f\"Kernel launch: grid=({grid_size}, 1), block=({block_size}, 1, 1)\")\n",
        "\n",
        "start_event.record()\n",
        "\n",
        "estabilidade2_kernel(\n",
        "    results_gpu,\n",
        "    num_vars_gpu,\n",
        "    scale_params_gpu,\n",
        "    const_params_gpu,\n",
        "    wcl_coeffs,\n",
        "    wcm_coeffs,\n",
        "    np.float32(1.118),\n",
        "    np.float32(40),\n",
        "    np.float32(0.1),\n",
        "    np.float32(0.059),\n",
        "    np.float32(0.25),\n",
        "    np.float32(0.35),\n",
        "    np.float32(0.5),\n",
        "    np.float32(15),\n",
        "    np.float32(-2.5),\n",
        "    np.int32(len(num_vars)),\n",
        "    block=(block_size, 1, 1),\n",
        "    grid=(grid_size, 1)\n",
        ")\n",
        "\n",
        "end_event.record()\n",
        "end_event.synchronize()\n",
        "elapsed_time_ms = end_event.time_since(start_event)\n",
        "print(f\"Kernel execution time: {elapsed_time_ms:.3f} ms\")\n",
        "\n",
        "# 4. Copy the data back to the CPU\n",
        "results_cpu = np.empty(size, dtype=np.float32)\n",
        "drv.memcpy_dtoh(results_cpu, results_gpu)\n",
        "\n",
        "print(\"\\nTest results on CPU:\", results_cpu)\n",
        "\n",
        "# Clean up GPU memory\n",
        "results_gpu.free()\n",
        "num_vars_gpu.free()\n",
        "scale_params_gpu.free()\n",
        "const_params_gpu.free()\n",
        "print(\"\\nTest GPU memory freed.\")"
      ],
      "metadata": {
        "colab": {
          "base_uri": "https://localhost:8080/"
        },
        "id": "NPLeJ59haKvx",
        "outputId": "64dd7f71-3406-4330-c49c-5abc4876cfb2"
      },
      "execution_count": null,
      "outputs": [
        {
          "output_type": "stream",
          "name": "stdout",
          "text": [
            "\n",
            "--- Test Launch ---\n",
            "Test size: 65536\n",
            "Test block size: 256\n",
            "Test grid size: 256\n",
            "Kernel launch: grid=(256, 1), block=(256, 1, 1)\n",
            "Kernel execution time: 21.019 ms\n",
            "\n",
            "Minimal test results on CPU: [18.517164 32.986286 47.455418 ... 10.457113 12.841626 15.226138]\n",
            "\n",
            "Minimal test GPU memory freed.\n"
          ]
        }
      ]
    },
    {
      "cell_type": "code",
      "source": [
        "# Attempt to pop the current context\n",
        "try:\n",
        "    pycuda.autoinit.context.pop()\n",
        "    print(\"Attempted to pop the previous CUDA context.\")\n",
        "except Exception as e:\n",
        "    print(f\"Could not pop context (likely none was active or manageable by autoinit): {e}\")"
      ],
      "metadata": {
        "colab": {
          "base_uri": "https://localhost:8080/"
        },
        "id": "ESxv9PaRlkWg",
        "outputId": "2230e168-187d-4f32-ea86-72057b5c2c38"
      },
      "execution_count": null,
      "outputs": [
        {
          "output_type": "stream",
          "name": "stdout",
          "text": [
            "Attempted to pop the previous CUDA context.\n"
          ]
        }
      ]
    },
    {
      "cell_type": "code",
      "source": [
        "import seaborn as sns\n",
        "sns.histplot(results_cpu)#, binrange=(0, 5))"
      ],
      "metadata": {
        "colab": {
          "base_uri": "https://localhost:8080/",
          "height": 448
        },
        "id": "ia1OnJ3ZX7a9",
        "outputId": "37b07653-235a-472a-e7e6-742643b59864"
      },
      "execution_count": null,
      "outputs": [
        {
          "output_type": "execute_result",
          "data": {
            "text/plain": [
              "<Axes: ylabel='Count'>"
            ]
          },
          "metadata": {},
          "execution_count": 9
        },
        {
          "output_type": "display_data",
          "data": {
            "text/plain": [
              "<Figure size 640x480 with 1 Axes>"
            ],
            "image/png": "[encoded data removed]"
          },
          "metadata": {}
        }
      ]
    },
    {
      "cell_type": "code",
      "source": [],
      "metadata": {
        "id": "ERZgExGvvSYe"
      },
      "execution_count": null,
      "outputs": []
    }
  ]
}