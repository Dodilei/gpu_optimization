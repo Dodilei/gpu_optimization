{
  "nbformat": 4,
  "nbformat_minor": 0,
  "metadata": {
    "colab": {
      "provenance": [],
      "gpuType": "T4"
    },
    "kernelspec": {
      "name": "python3",
      "display_name": "Python 3"
    },
    "language_info": {
      "name": "python"
    },
    "accelerator": "GPU"
  },
  "cells": [
    {
      "cell_type": "code",
      "source": [
        "!rm -rf gpu_optimization\n",
        "!git clone https://github.com//Dodilei/gpu_optimization.git"
      ],
      "metadata": {
        "id": "hr-ifyZ-lCGc",
        "colab": {
          "base_uri": "https://localhost:8080/"
        },
        "outputId": "489e38de-6026-4efb-eb31-0bfda2fe46e1"
      },
      "execution_count": null,
      "outputs": [
        {
          "output_type": "stream",
          "name": "stdout",
          "text": [
            "Cloning into 'gpu_optimization'...\n",
            "remote: Enumerating objects: 43, done.\u001b[K\n",
            "remote: Counting objects: 100% (43/43), done.\u001b[K\n",
            "remote: Compressing objects: 100% (42/42), done.\u001b[K\n",
            "remote: Total 43 (delta 21), reused 0 (delta 0), pack-reused 0 (from 0)\u001b[K\n",
            "Receiving objects: 100% (43/43), 62.84 KiB | 3.93 MiB/s, done.\n",
            "Resolving deltas: 100% (21/21), done.\n"
          ]
        }
      ]
    },
    {
      "cell_type": "code",
      "source": [
        "!pip install pycuda"
      ],
      "metadata": {
        "id": "Hd4btUMYhe1h",
        "colab": {
          "base_uri": "https://localhost:8080/"
        },
        "outputId": "281984bc-d476-451e-e99c-72043df34ef0"
      },
      "execution_count": null,
      "outputs": [
        {
          "output_type": "stream",
          "name": "stdout",
          "text": [
            "Requirement already satisfied: pycuda in /usr/local/lib/python3.11/dist-packages (2025.1.1)\n",
            "Requirement already satisfied: pytools>=2011.2 in /usr/local/lib/python3.11/dist-packages (from pycuda) (2025.2.2)\n",
            "Requirement already satisfied: platformdirs>=2.2.0 in /usr/local/lib/python3.11/dist-packages (from pycuda) (4.3.8)\n",
            "Requirement already satisfied: mako in /usr/lib/python3/dist-packages (from pycuda) (1.1.3)\n",
            "Requirement already satisfied: siphash24>=1.6 in /usr/local/lib/python3.11/dist-packages (from pytools>=2011.2->pycuda) (1.7)\n",
            "Requirement already satisfied: typing-extensions>=4.5 in /usr/local/lib/python3.11/dist-packages (from pytools>=2011.2->pycuda) (4.14.1)\n"
          ]
        }
      ]
    },
    {
      "cell_type": "code",
      "source": [
        "import pycuda.driver as drv\n",
        "import pycuda.compiler\n",
        "from pycuda.gpuarray import vec\n",
        "import numpy as np\n",
        "import pycuda.autoinit # This automatically initializes the CUDA driver\n",
        "\n",
        "# Verify PyCUDA installation\n",
        "print(f\"CUDA driver version: {drv.get_version()}\")\n",
        "\n",
        "# Test if the context was popped by attempting an operation\n",
        "try:\n",
        "    # Attempt a simple memory allocation, which requires a valid context\n",
        "    test_allocation = drv.mem_alloc(np.int32().nbytes)\n",
        "    print(\"Context is still active after attempting to pop.\")\n",
        "    # If allocation succeeded, free the memory\n",
        "    test_allocation.free()\n",
        "except drv.LogicError as e:\n",
        "    if \"invalid device context\" in str(e):\n",
        "        print(\"Context was inactive.\")\n",
        "        # Create and push a new context for device 0\n",
        "        try:\n",
        "            new_context = drv.Device(0).make_context()\n",
        "            print(\"New CUDA context created and activated.\")\n",
        "        except Exception as e:\n",
        "            print(f\"Failed to create new context: {e}\")\n",
        "    else:\n",
        "        print(f\"An unexpected error occurred during context test: {e}\")\n",
        "except Exception as e:\n",
        "    print(f\"An unexpected error occurred during context test: {e}\")\n",
        "\n",
        "# Create two CUDA events\n",
        "start_event = drv.Event()\n",
        "end_event = drv.Event()"
      ],
      "metadata": {
        "colab": {
          "base_uri": "https://localhost:8080/"
        },
        "id": "o07ij9k-hiTy",
        "outputId": "7fdfb75a-1cfc-40cc-8f95-7fa36573f7ca"
      },
      "execution_count": null,
      "outputs": [
        {
          "output_type": "stream",
          "name": "stdout",
          "text": [
            "CUDA driver version: (12, 5, 0)\n",
            "Context is still active after attempting to pop.\n",
            "New CUDA context created and activated.\n"
          ]
        }
      ]
    },
    {
      "cell_type": "code",
      "source": [
        "# --- Define Kernel ---\n",
        "with open(\"/content/gpu_optimization/estabilidade1_kernel.cu\", \"r\") as f:\n",
        "    cuda_kernel_code = f.read()\n",
        "\n",
        "module = pycuda.compiler.SourceModule(cuda_kernel_code, no_extern_c=True)\n",
        "estabilidade1_kernel = module.get_function(\"stage_estabilidade1\")"
      ],
      "metadata": {
        "id": "XiQErdtWZuKf"
      },
      "execution_count": null,
      "outputs": []
    },
    {
      "cell_type": "code",
      "source": [
        "# Define coefficients as arrays (PyCUDA can marshal these to floatN)\n",
        "wcl_coeffs = vec.make_float4(*np.array([5.71558580e-01,  6.05864834e-02, -3.00544472e-04, -6.03974299e-05], dtype=np.float32))\n",
        "wcm_coeffs = vec.make_float3(*np.array([-0.18781341, -0.0006181 ,  0.00030185], dtype=np.float32))"
      ],
      "metadata": {
        "id": "1irInJMli71K"
      },
      "execution_count": null,
      "outputs": []
    },
    {
      "cell_type": "code",
      "source": [
        "# Allocate memory for num_vars on the GPU\n",
        "num_vars = np.array([\n",
        "    16,\n",
        "    16,\n",
        "     8,\n",
        "     8,\n",
        "    ], dtype=np.int32)\n",
        "num_vars_gpu = drv.mem_alloc(num_vars.nbytes)\n",
        "drv.memcpy_htod(num_vars_gpu, num_vars)\n",
        "\n",
        "# Allocate memory for scale_params on the GPU\n",
        "scale_params = np.array([\n",
        "    4.0/16,\n",
        "    0.75/16,\n",
        "    0.25/8,\n",
        "    2.0/8,\n",
        "    ], dtype=np.float32)\n",
        "scale_params_gpu = drv.mem_alloc(scale_params.nbytes)\n",
        "drv.memcpy_htod(scale_params_gpu, scale_params)\n",
        "\n",
        "# Allocate memory for const_params on the GPU\n",
        "const_params = np.array([\n",
        "     3.0,\n",
        "     0.25,\n",
        "     0.1,\n",
        "     1.5,\n",
        "    ], dtype=np.float32)\n",
        "const_params_gpu = drv.mem_alloc(const_params.nbytes)\n",
        "drv.memcpy_htod(const_params_gpu, const_params)\n",
        "\n",
        "# Allocate GPU memory for results\n",
        "size = int(num_vars.prod(dtype=np.int32))\n",
        "results_gpu = drv.mem_alloc(size * np.float32().nbytes)"
      ],
      "metadata": {
        "id": "E-2JgBTbZnYZ"
      },
      "execution_count": null,
      "outputs": []
    },
    {
      "cell_type": "code",
      "source": [
        "# 3. Launch the kernel\n",
        "block_size = 256\n",
        "grid_size = (size + block_size - 1) // block_size\n",
        "\n",
        "print(f\"\\n--- Test Launch ---\")\n",
        "print(f\"Test size: {size}\")\n",
        "print(f\"Test block size: {block_size}\")\n",
        "print(f\"Test grid size: {grid_size}\")\n",
        "print(f\"Kernel launch: grid=({grid_size}, 1), block=({block_size}, 1, 1)\")\n",
        "\n",
        "start_event.record()\n",
        "\n",
        "estabilidade1_kernel(\n",
        "    results_gpu,\n",
        "    num_vars_gpu,\n",
        "    scale_params_gpu,\n",
        "    const_params_gpu,\n",
        "    wcl_coeffs,\n",
        "    wcm_coeffs,\n",
        "    np.float32(0.072),\n",
        "    np.float32(0.059),\n",
        "    np.float32(-0.0024),\n",
        "    np.float32(0.25),\n",
        "    np.int32(len(num_vars)),\n",
        "    block=(block_size, 1, 1),\n",
        "    grid=(grid_size, 1)\n",
        ")\n",
        "\n",
        "end_event.record()\n",
        "end_event.synchronize()\n",
        "elapsed_time_ms = end_event.time_since(start_event)\n",
        "print(f\"Kernel execution time: {elapsed_time_ms:.3f} ms\")\n",
        "\n",
        "# 4. Copy the data back to the CPU\n",
        "results_cpu = np.empty(size, dtype=np.float32)\n",
        "drv.memcpy_dtoh(results_cpu, results_gpu)\n",
        "\n",
        "print(\"\\nTest results on CPU:\", results_cpu)\n",
        "\n",
        "# Clean up GPU memory\n",
        "results_gpu.free()\n",
        "num_vars_gpu.free()\n",
        "scale_params_gpu.free()\n",
        "const_params_gpu.free()\n",
        "print(\"\\nTest GPU memory freed.\")"
      ],
      "metadata": {
        "colab": {
          "base_uri": "https://localhost:8080/"
        },
        "id": "NPLeJ59haKvx",
        "outputId": "7436dfdd-245f-41b1-bbdb-040cd173db95"
      },
      "execution_count": null,
      "outputs": [
        {
          "output_type": "stream",
          "name": "stdout",
          "text": [
            "\n",
            "--- Test Launch ---\n",
            "Test size: 16384\n",
            "Test block size: 256\n",
            "Test grid size: 64\n",
            "Kernel launch: grid=(64, 1), block=(256, 1, 1)\n",
            "Kernel execution time: 5.073 ms\n",
            "\n",
            "Minimal test results on CPU: [0.09848937 0.10762276 0.11784481 ... 0.533001   0.5862104  0.63996434]\n",
            "\n",
            "Minimal test GPU memory freed.\n"
          ]
        }
      ]
    },
    {
      "cell_type": "code",
      "source": [
        "# Attempt to pop the current context\n",
        "try:\n",
        "    pycuda.autoinit.context.pop()\n",
        "    print(\"Attempted to pop the previous CUDA context.\")\n",
        "except Exception as e:\n",
        "    print(f\"Could not pop context (likely none was active or manageable by autoinit): {e}\")"
      ],
      "metadata": {
        "colab": {
          "base_uri": "https://localhost:8080/"
        },
        "id": "ESxv9PaRlkWg",
        "outputId": "8a164b1d-ea38-4dac-caaf-ec2bc263b9a8"
      },
      "execution_count": null,
      "outputs": [
        {
          "output_type": "stream",
          "name": "stdout",
          "text": [
            "Attempted to pop the previous CUDA context.\n"
          ]
        }
      ]
    },
    {
      "cell_type": "code",
      "source": [
        "import seaborn as sns\n",
        "sns.histplot(results_cpu)#, binrange=(0, 5))"
      ],
      "metadata": {
        "colab": {
          "base_uri": "https://localhost:8080/",
          "height": 448
        },
        "id": "ia1OnJ3ZX7a9",
        "outputId": "93de125f-428b-41fb-d1ce-c98647611e3e"
      },
      "execution_count": null,
      "outputs": [
        {
          "output_type": "execute_result",
          "data": {
            "text/plain": [
              "<Axes: ylabel='Count'>"
            ]
          },
          "metadata": {},
          "execution_count": 17
        },
        {
          "output_type": "display_data",
          "data": {
            "text/plain": [
              "<Figure size 640x480 with 1 Axes>"
            ],
            "image/png": "[encoded data removed]"
          },
          "metadata": {}
        }
      ]
    },
    {
      "cell_type": "code",
      "source": [],
      "metadata": {
        "id": "ERZgExGvvSYe"
      },
      "execution_count": null,
      "outputs": []
    }
  ]
}