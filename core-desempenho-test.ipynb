{
  "nbformat": 4,
  "nbformat_minor": 0,
  "metadata": {
    "colab": {
      "provenance": [],
      "gpuType": "T4"
    },
    "kernelspec": {
      "name": "python3",
      "display_name": "Python 3"
    },
    "language_info": {
      "name": "python"
    },
    "accelerator": "GPU"
  },
  "cells": [
    {
      "cell_type": "code",
      "source": [
        "!rm -rf gpu_optimization\n",
        "!git clone https://github.com//Dodilei/gpu_optimization.git"
      ],
      "metadata": {
        "id": "hr-ifyZ-lCGc",
        "colab": {
          "base_uri": "https://localhost:8080/"
        },
        "outputId": "6138476a-db09-49f0-a8fe-f9a96ed2f050"
      },
      "execution_count": 1,
      "outputs": [
        {
          "output_type": "stream",
          "name": "stdout",
          "text": [
            "Cloning into 'gpu_optimization'...\n",
            "remote: Enumerating objects: 23, done.\u001b[K\n",
            "remote: Counting objects: 100% (23/23), done.\u001b[K\n",
            "remote: Compressing objects: 100% (22/22), done.\u001b[K\n",
            "Receiving objects: 100% (23/23), 43.71 KiB | 2.73 MiB/s, done.\n",
            "Resolving deltas: 100% (9/9), done.\n",
            "remote: Total 23 (delta 9), reused 0 (delta 0), pack-reused 0 (from 0)\u001b[K\n"
          ]
        }
      ]
    },
    {
      "cell_type": "code",
      "source": [
        "!pip install pycuda"
      ],
      "metadata": {
        "id": "Hd4btUMYhe1h",
        "colab": {
          "base_uri": "https://localhost:8080/"
        },
        "outputId": "9b2a3c34-614e-4b1a-924d-0556475d41fb"
      },
      "execution_count": 2,
      "outputs": [
        {
          "output_type": "stream",
          "name": "stdout",
          "text": [
            "Requirement already satisfied: pycuda in /usr/local/lib/python3.11/dist-packages (2025.1.1)\n",
            "Requirement already satisfied: pytools>=2011.2 in /usr/local/lib/python3.11/dist-packages (from pycuda) (2025.2.2)\n",
            "Requirement already satisfied: platformdirs>=2.2.0 in /usr/local/lib/python3.11/dist-packages (from pycuda) (4.3.8)\n",
            "Requirement already satisfied: mako in /usr/lib/python3/dist-packages (from pycuda) (1.1.3)\n",
            "Requirement already satisfied: siphash24>=1.6 in /usr/local/lib/python3.11/dist-packages (from pytools>=2011.2->pycuda) (1.7)\n",
            "Requirement already satisfied: typing-extensions>=4.5 in /usr/local/lib/python3.11/dist-packages (from pytools>=2011.2->pycuda) (4.14.1)\n"
          ]
        }
      ]
    },
    {
      "cell_type": "code",
      "source": [
        "import pycuda.driver as drv\n",
        "import pycuda.compiler\n",
        "from pycuda.gpuarray import vec\n",
        "import numpy as np\n",
        "import pycuda.autoinit # This automatically initializes the CUDA driver\n",
        "\n",
        "# Verify PyCUDA installation\n",
        "print(f\"CUDA driver version: {drv.get_version()}\")\n",
        "\n",
        "# Test if the context was popped by attempting an operation\n",
        "try:\n",
        "    # Attempt a simple memory allocation, which requires a valid context\n",
        "    test_allocation = drv.mem_alloc(np.int32().nbytes)\n",
        "    print(\"Context is still active after attempting to pop.\")\n",
        "    # If allocation succeeded, free the memory\n",
        "    test_allocation.free()\n",
        "except drv.LogicError as e:\n",
        "    if \"invalid device context\" in str(e):\n",
        "        print(\"Context was successfully popped.\")\n",
        "    else:\n",
        "        print(f\"An unexpected error occurred during context test: {e}\")\n",
        "except Exception as e:\n",
        "    print(f\"An unexpected error occurred during context test: {e}\")\n",
        "\n",
        "\n",
        "# Create and push a new context for device 0\n",
        "try:\n",
        "    new_context = drv.Device(0).make_context()\n",
        "    print(\"New CUDA context created and activated.\")\n",
        "except Exception as e:\n",
        "    print(f\"Failed to create new context: {e}\")"
      ],
      "metadata": {
        "colab": {
          "base_uri": "https://localhost:8080/"
        },
        "id": "o07ij9k-hiTy",
        "outputId": "ef02be49-eb05-49f8-e46e-3819c77e485e"
      },
      "execution_count": 3,
      "outputs": [
        {
          "output_type": "stream",
          "name": "stdout",
          "text": [
            "CUDA driver version: (12, 5, 0)\n",
            "Context is still active after attempting to pop.\n",
            "New CUDA context created and activated.\n"
          ]
        }
      ]
    },
    {
      "cell_type": "code",
      "source": [
        "# --- Define Kernel ---\n",
        "with open(\"/content/gpu_optimization/desempenho_kernel.cu\", \"r\") as f:\n",
        "    cuda_kernel_code = f.read()\n",
        "\n",
        "module = pycuda.compiler.SourceModule(cuda_kernel_code, no_extern_c=True)\n",
        "desempenho_kernel = module.get_function(\"stage_desempenho\")"
      ],
      "metadata": {
        "id": "XiQErdtWZuKf"
      },
      "execution_count": 4,
      "outputs": []
    },
    {
      "cell_type": "code",
      "source": [
        "# Define coefficients as arrays (PyCUDA can marshal these to float4)\n",
        "wcl_coeffs = vec.make_float4(*np.array([5.71558580e-01,  6.05864834e-02, -3.00544472e-04, -6.03974299e-05], dtype=np.float32))\n",
        "wcd_coeffs = vec.make_float4(*np.array([9.82412939e-02,  1.54898356e-02,  5.60846760e-04, -1.71550981e-05], dtype=np.float32))"
      ],
      "metadata": {
        "id": "1irInJMli71K"
      },
      "execution_count": 5,
      "outputs": []
    },
    {
      "cell_type": "code",
      "source": [
        "# Allocate memory for num_vars on the GPU\n",
        "num_vars = np.array([\n",
        "    10,\n",
        "     8,\n",
        "     8,\n",
        "    16\n",
        "    ], dtype=np.int32)\n",
        "num_vars_gpu = drv.mem_alloc(num_vars.nbytes)\n",
        "drv.memcpy_htod(num_vars_gpu, num_vars)\n",
        "\n",
        "# Allocate memory for scale_params on the GPU\n",
        "scale_params = np.array([\n",
        "    0.2000,\n",
        "    0.0375,\n",
        "    0.5000,\n",
        "    0.0375\n",
        "    ], dtype=np.float32)\n",
        "scale_params_gpu = drv.mem_alloc(scale_params.nbytes)\n",
        "drv.memcpy_htod(scale_params_gpu, scale_params)\n",
        "\n",
        "# Allocate memory for const_params on the GPU\n",
        "const_params = np.array([\n",
        "     4.0,\n",
        "     0.6,\n",
        "    12.0,\n",
        "     1.0\n",
        "    ], dtype=np.float32)\n",
        "const_params_gpu = drv.mem_alloc(const_params.nbytes)\n",
        "drv.memcpy_htod(const_params_gpu, const_params)\n",
        "\n",
        "# Allocate GPU memory for results\n",
        "size = int(num_vars.prod(dtype=np.int32))\n",
        "results_gpu = drv.mem_alloc(size * np.float32().nbytes)"
      ],
      "metadata": {
        "id": "E-2JgBTbZnYZ"
      },
      "execution_count": 6,
      "outputs": []
    },
    {
      "cell_type": "code",
      "source": [
        "# 3. Launch the kernel\n",
        "block_size = 256\n",
        "grid_size = (size + block_size - 1) // block_size\n",
        "\n",
        "print(f\"\\n--- Test Launch ---\")\n",
        "print(f\"Test size: {size}\")\n",
        "print(f\"Test block size: {block_size}\")\n",
        "print(f\"Test grid size: {grid_size}\")\n",
        "print(f\"Kernel launch: grid=({grid_size}, 1), block=({block_size}, 1, 1)\")\n",
        "\n",
        "desempenho_kernel(\n",
        "    results_gpu,\n",
        "    num_vars_gpu,\n",
        "    scale_params_gpu,\n",
        "    const_params_gpu,\n",
        "    wcl_coeffs,\n",
        "    wcd_coeffs,\n",
        "    np.float32(9.806),\n",
        "    np.float32(1.118),\n",
        "    np.float32(40),\n",
        "    np.float32(0.1),\n",
        "    np.float32(0.05),\n",
        "    np.float32(3.0),\n",
        "    np.float32(600),\n",
        "    np.float32(3.0),\n",
        "    np.int32(len(num_vars)),\n",
        "    block=(block_size, 1, 1),\n",
        "    grid=(grid_size, 1)\n",
        ")\n",
        "\n",
        "# 4. Copy the data back to the CPU\n",
        "results_cpu = np.empty(size, dtype=np.float32)\n",
        "drv.memcpy_dtoh(results_cpu, results_gpu)\n",
        "\n",
        "# 5. Print the data on the CPU\n",
        "print(\"\\nMinimal test results on CPU:\", results_cpu)\n",
        "\n",
        "# Clean up test GPU memory\n",
        "results_gpu.free()\n",
        "num_vars_gpu.free()\n",
        "scale_params_gpu.free()\n",
        "const_params_gpu.free()\n",
        "print(\"\\nMinimal test GPU memory freed.\")"
      ],
      "metadata": {
        "colab": {
          "base_uri": "https://localhost:8080/"
        },
        "id": "NPLeJ59haKvx",
        "outputId": "917d0ca3-987b-443e-9f19-004285a5ff0e"
      },
      "execution_count": 7,
      "outputs": [
        {
          "output_type": "stream",
          "name": "stdout",
          "text": [
            "\n",
            "--- Test Launch ---\n",
            "Test size: 10240\n",
            "Test block size: 256\n",
            "Test grid size: 40\n",
            "Kernel launch: grid=(40, 1), block=(256, 1, 1)\n",
            "\n",
            "Minimal test results on CPU: [43.636078 44.873047 46.110027 ... 60.335297 61.572258 62.190754]\n",
            "\n",
            "Minimal test GPU memory freed.\n"
          ]
        }
      ]
    },
    {
      "cell_type": "code",
      "source": [
        "# Attempt to pop the current context\n",
        "try:\n",
        "    pycuda.autoinit.context.pop()\n",
        "    print(\"Attempted to pop the previous CUDA context.\")\n",
        "except Exception as e:\n",
        "    print(f\"Could not pop context (likely none was active or manageable by autoinit): {e}\")"
      ],
      "metadata": {
        "colab": {
          "base_uri": "https://localhost:8080/"
        },
        "id": "ESxv9PaRlkWg",
        "outputId": "819c154a-2ed1-43b6-efea-b978f105d747"
      },
      "execution_count": 8,
      "outputs": [
        {
          "output_type": "stream",
          "name": "stdout",
          "text": [
            "Attempted to pop the previous CUDA context.\n"
          ]
        }
      ]
    },
    {
      "cell_type": "code",
      "source": [
        "import seaborn as sns\n",
        "sns.histplot(results_cpu)#, binrange=(0, 5))"
      ],
      "metadata": {
        "colab": {
          "base_uri": "https://localhost:8080/",
          "height": 448
        },
        "id": "ia1OnJ3ZX7a9",
        "outputId": "983173e3-57d8-4963-b3ed-ef600404538d"
      },
      "execution_count": 9,
      "outputs": [
        {
          "output_type": "execute_result",
          "data": {
            "text/plain": [
              "<Axes: ylabel='Count'>"
            ]
          },
          "metadata": {},
          "execution_count": 9
        },
        {
          "output_type": "display_data",
          "data": {
            "text/plain": [
              "<Figure size 640x480 with 1 Axes>"
            ],
            "image/png": "[encoded data removed]"
          },
          "metadata": {}
        }
      ]
    },
    {
      "cell_type": "code",
      "source": [],
      "metadata": {
        "id": "ERZgExGvvSYe"
      },
      "execution_count": 9,
      "outputs": []
    }
  ]
}